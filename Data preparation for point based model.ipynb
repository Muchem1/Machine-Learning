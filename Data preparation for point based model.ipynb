{
 "cells": [
  {
   "cell_type": "code",
   "execution_count": null,
   "id": "962c0b1f",
   "metadata": {},
   "outputs": [],
   "source": [
    "# Import used packages\n",
    "import geopandas as gpd  # used to read the shapfile\n",
    "import rasterio as rio   # used to read the raster (.tif) files\n",
    "from rasterio.plot import show # used to make plots using rasterio\n",
    "import matplotlib.pyplot as plt #to make plots using matplotlib"
   ]
  },
  {
   "cell_type": "code",
   "execution_count": null,
   "id": "4f03bbfe",
   "metadata": {},
   "outputs": [],
   "source": [
    "pip install matplotlib"
   ]
  },
  {
   "cell_type": "code",
   "execution_count": null,
   "id": "0b6273d6",
   "metadata": {},
   "outputs": [],
   "source": [
    "import geopandas as gpd\n",
    "\n",
    "# Read your point shapefiles (Flooded and Non Flooded locations)\n",
    "points = gpd.read_file('Points.shp')\n",
    "\n",
    "# Display the index positions of the objects in the GeoDataFrame\n",
    "print(points.index)\n"
   ]
  },
  {
   "cell_type": "code",
   "execution_count": null,
   "id": "4e35fb8d",
   "metadata": {},
   "outputs": [],
   "source": [
    "import geopandas as gpd\n",
    "\n",
    "# Read your point shapefiles (Flooded and Non Flooded locations)\n",
    "points = gpd.read_file('Points2.shp')\n",
    "\n",
    "# Delete the row with index 365\n",
    "points = points.drop(365)\n",
    "\n",
    "# Save the updated GeoDataFrame if needed\n",
    "points.to_file('updated_POINTS.shp')"
   ]
  },
  {
   "cell_type": "code",
   "execution_count": null,
   "id": "610fbeed",
   "metadata": {},
   "outputs": [],
   "source": [
    "# Read your point shapefiles (Flooded and Non Flooded locations)\n",
    "points=gpd.read_file('updated_POINTS.shp')"
   ]
  },
  {
   "cell_type": "code",
   "execution_count": null,
   "id": "681c43b2",
   "metadata": {},
   "outputs": [],
   "source": [
    "# make columns to extract the values of each predictive feature\n",
    "# for each point. \n",
    "points['DEM']=0 #\n",
    "points['SLOPE']=0\n",
    "points['Aspect']=0\n",
    "points['Profile']=0\n",
    "points['TWI']=0\n",
    "points['TPI']=0\n",
    "points['Geology']=0\n",
    "points['Lithology']=0\n",
    "points['LULC']=0\n",
    "points['TRI']=0  #Max daily precipitation  #Frequency of extreme precipitation event."
   ]
  },
  {
   "cell_type": "code",
   "execution_count": null,
   "id": "7bf57a02",
   "metadata": {},
   "outputs": [],
   "source": [
    "#The predictive features are in raster format so we use rasterio package to \n",
    "#read them and convert them to numpy array\n",
    "\n",
    "DEM_raster=rio.open('DEM.tif')\n",
    "DEM_arr=DEM_raster.read(1)\n",
    "\n",
    "SLOPE_raster=rio.open('SLOPE.tif')\n",
    "SLOPE_arr=SLOPE_raster.read(1)\n",
    "\n",
    "Aspect_raster=rio.open('Aspect.tif')\n",
    "Aspect_arr=Aspect_raster.read(1)\n",
    "\n",
    "TPI_raster=rio.open('TPI.tif')\n",
    "TPI_arr=TPI_raster.read(1)\n",
    "\n",
    "TWI_raster=rio.open('TWI.tif')\n",
    "TWI_arr=TWI_raster.read(1)\n",
    "\n",
    "TRI_raster=rio.open('TRI.tif')\n",
    "TRI_arr=TRI_raster.read(1)\n",
    "\n",
    "Geology_raster=rio.open('Geology.tif')\n",
    "Geology_arr=Geology_raster.read(1)\n",
    "\n",
    "Lithology_raster=rio.open('Lithology.tif')\n",
    "Lithology_arr=Lithology_raster.read(1)\n",
    "\n",
    "CLASS_raster=rio.open('CLASS.tif')\n",
    "CLASS_arr=CLASS_raster.read(1)"
   ]
  },
  {
   "cell_type": "code",
   "execution_count": null,
   "id": "8a6fbbed",
   "metadata": {},
   "outputs": [],
   "source": [
    "#show point and raster on a matplotlib plot\n",
    "fig, ax = plt.subplots(figsize=(12,12))\n",
    "points.plot(ax=ax, color='orangered')\n",
    "show(DEM_raster, ax=ax)"
   ]
  },
  {
   "cell_type": "code",
   "execution_count": null,
   "id": "4000ca38",
   "metadata": {},
   "outputs": [],
   "source": [
    "# Extracting the raster values to the points shapefile\n",
    "# count=0\n",
    "for index, row in points.iterrows():\n",
    "    longitude = row['geometry'].x\n",
    "    latitude = row['geometry'].y\n",
    "\n",
    "    rowIndex, colIndex = DEM_raster.index(longitude, latitude)\n",
    "\n",
    "    points.at[index, 'DEM'] = DEM_arr[rowIndex, colIndex]\n",
    "    points.at[index, 'Slope'] = SLOPE_arr[rowIndex, colIndex]\n",
    "    points.at[index, 'Aspect'] = Aspect_arr[rowIndex, colIndex]\n",
    "    points.at[index, 'TWI'] = TWI_arr[rowIndex, colIndex]\n",
    "    points.at[index, 'TPI'] = TPI_arr[rowIndex, colIndex]\n",
    "    points.at[index, 'TRI'] = TRI_arr[rowIndex, colIndex]\n",
    "    points.at[index, 'Geology'] = Geology_arr[rowIndex, colIndex]\n",
    "    points.at[index, 'Lithology'] = Lithology_arr[rowIndex, colIndex]\n",
    "    points.at[index, 'LULC'] = CLASS_arr[rowIndex, colIndex]"
   ]
  },
  {
   "cell_type": "code",
   "execution_count": null,
   "id": "5b9fb31b",
   "metadata": {},
   "outputs": [],
   "source": [
    "points.head() # to have a look on the calculated fields."
   ]
  },
  {
   "cell_type": "code",
   "execution_count": null,
   "id": "5e5f864f",
   "metadata": {},
   "outputs": [],
   "source": [
    "# Save the points file\n",
    "points.to_file('points_data.shp') # save as a shapfile "
   ]
  }
 ],
 "metadata": {
  "kernelspec": {
   "display_name": "Python 3 (ipykernel)",
   "language": "python",
   "name": "python3"
  },
  "language_info": {
   "codemirror_mode": {
    "name": "ipython",
    "version": 3
   },
   "file_extension": ".py",
   "mimetype": "text/x-python",
   "name": "python",
   "nbconvert_exporter": "python",
   "pygments_lexer": "ipython3",
   "version": "3.9.13"
  }
 },
 "nbformat": 4,
 "nbformat_minor": 5
}
